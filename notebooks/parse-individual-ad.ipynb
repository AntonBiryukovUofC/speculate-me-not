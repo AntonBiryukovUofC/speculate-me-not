{
 "cells": [
  {
   "cell_type": "code",
   "execution_count": 2,
   "id": "bab8b9df-bf54-4102-96c2-dba206eb2429",
   "metadata": {},
   "outputs": [],
   "source": [
    "from bs4 import BeautifulSoup\n",
    "import requests\n",
    "url = 'https://www.kijiji.ca/v-bike-frames-parts/calgary/kona-stinky-dee-lux/1632082095'\n",
    "page = requests.get(url)\n",
    "soup = BeautifulSoup(page.content, \"html.parser\")"
   ]
  },
  {
   "cell_type": "code",
   "execution_count": 22,
   "id": "194bc354-ec92-4d13-8b62-036a920f9da1",
   "metadata": {},
   "outputs": [],
   "source": [
    "images = soup.find_all('img')"
   ]
  },
  {
   "cell_type": "code",
   "execution_count": 23,
   "id": "0ed1dad2-f9b3-480a-826f-1e0bae5726fa",
   "metadata": {},
   "outputs": [],
   "source": [
    "tg = images[0]"
   ]
  },
  {
   "cell_type": "code",
   "execution_count": 24,
   "id": "eb122aba-7903-4d5b-95ce-c28617b4db75",
   "metadata": {},
   "outputs": [
    {
     "data": {
      "text/plain": [
       "'https://media.kijiji.ca/api/v1/ca-prod-fsbo-ads/images/86/8632a117-5d58-4414-80c8-6a9b8e06d3a6?rule=kijijica-640-jpg'"
      ]
     },
     "execution_count": 24,
     "metadata": {},
     "output_type": "execute_result"
    }
   ],
   "source": [
    "tg.get('src')"
   ]
  },
  {
   "cell_type": "code",
   "execution_count": null,
   "id": "b4df19ea-9060-45be-bc4a-dc930be374f2",
   "metadata": {},
   "outputs": [],
   "source": []
  }
 ],
 "metadata": {
  "kernelspec": {
   "display_name": "Python 3 (ipykernel)",
   "language": "python",
   "name": "python3"
  },
  "language_info": {
   "codemirror_mode": {
    "name": "ipython",
    "version": 3
   },
   "file_extension": ".py",
   "mimetype": "text/x-python",
   "name": "python",
   "nbconvert_exporter": "python",
   "pygments_lexer": "ipython3",
   "version": "3.10.6"
  }
 },
 "nbformat": 4,
 "nbformat_minor": 5
}
